{
 "cells": [
  {
   "cell_type": "code",
   "execution_count": 15,
   "metadata": {},
   "outputs": [],
   "source": [
    "import pandas as pd\n",
    "\n",
    "data = pd.read_csv('/Users/a11/vscode/discriminance-analysis/byh/src/datasets/winequality-red_binary.csv')\n",
    "#将红酒质量>6.5划分为好【用0表示】\n",
    "data['quality_two'] = data['quality'].apply(lambda x: '0' if x > 5.5 else '1') "
   ]
  },
  {
   "cell_type": "code",
   "execution_count": 16,
   "metadata": {},
   "outputs": [
    {
     "name": "stdout",
     "output_type": "stream",
     "text": [
      "quality_two\n",
      "0    855\n",
      "1    744\n",
      "Name: count, dtype: int64\n"
     ]
    }
   ],
   "source": [
    "quality_two_counts = data['quality_two'].value_counts()  \n",
    "  \n",
    "# 打印结果  \n",
    "print(quality_two_counts)"
   ]
  },
  {
   "cell_type": "code",
   "execution_count": null,
   "metadata": {},
   "outputs": [],
   "source": []
  }
 ],
 "metadata": {
  "kernelspec": {
   "display_name": "pytorch2.0",
   "language": "python",
   "name": "python3"
  },
  "language_info": {
   "codemirror_mode": {
    "name": "ipython",
    "version": 3
   },
   "file_extension": ".py",
   "mimetype": "text/x-python",
   "name": "python",
   "nbconvert_exporter": "python",
   "pygments_lexer": "ipython3",
   "version": "3.10.14"
  }
 },
 "nbformat": 4,
 "nbformat_minor": 2
}
